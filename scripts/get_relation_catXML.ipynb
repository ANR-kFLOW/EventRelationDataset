{
 "cells": [
  {
   "cell_type": "code",
   "execution_count": 1,
   "metadata": {
    "executionInfo": {
     "elapsed": 20,
     "status": "ok",
     "timestamp": 1651422042502,
     "user": {
      "displayName": "REBBOUD Youssra",
      "userId": "00885731475713379313"
     },
     "user_tz": -120
    },
    "id": "FfGETgjSLtI8"
   },
   "outputs": [],
   "source": [
    "import os \n",
    "import re\n",
    "import os \n",
    "import xml.etree.ElementTree as ET\n",
    "from xml.etree import ElementTree\n",
    "import re"
   ]
  },
  {
   "cell_type": "code",
   "execution_count": 18,
   "metadata": {
    "executionInfo": {
     "elapsed": 478,
     "status": "ok",
     "timestamp": 1651422728639,
     "user": {
      "displayName": "REBBOUD Youssra",
      "userId": "00885731475713379313"
     },
     "user_tz": -120
    },
    "id": "ZvcYNfdDLwZ_"
   },
   "outputs": [],
   "source": [
    "os.chdir('/content/drive/MyDrive/kFLOW/EKAW 2022/data_sets/EventStoryLine-master/EventStoryLine-master/annotated_data/v1.0')"
   ]
  },
  {
   "cell_type": "code",
   "execution_count": 3,
   "metadata": {
    "executionInfo": {
     "elapsed": 46,
     "status": "ok",
     "timestamp": 1651422044997,
     "user": {
      "displayName": "REBBOUD Youssra",
      "userId": "00885731475713379313"
     },
     "user_tz": -120
    },
    "id": "Nx3OyLcwcgTU"
   },
   "outputs": [],
   "source": [
    "intentienality_signals=['want','plan','aim', 'ambition', 'aspiration', 'bourne' , 'bourn', 'design', 'dream', 'end', 'goal', 'idea', 'ideal', 'intent', 'mark', 'mean', 'object', 'objective', 'point', 'pretension', 'purpose', 'target']"
   ]
  },
  {
   "cell_type": "code",
   "execution_count": null,
   "metadata": {
    "colab": {
     "base_uri": "https://localhost:8080/"
    },
    "executionInfo": {
     "elapsed": 1885,
     "status": "ok",
     "timestamp": 1651398465502,
     "user": {
      "displayName": "REBBOUD Youssra",
      "userId": "00885731475713379313"
     },
     "user_tz": -120
    },
    "id": "Xoy6rgIvdBx7",
    "outputId": "9de1bc76-a6e4-4730-b13b-ecfd92c7d876"
   },
   "outputs": [
    {
     "name": "stdout",
     "output_type": "stream",
     "text": [
      "[nltk_data] Downloading package wordnet to /root/nltk_data...\n",
      "[nltk_data]   Unzipping corpora/wordnet.zip.\n"
     ]
    },
    {
     "data": {
      "text/plain": [
       "True"
      ]
     },
     "execution_count": 4,
     "metadata": {},
     "output_type": "execute_result"
    }
   ],
   "source": [
    "import nltk\n",
    "nltk.download('wordnet')"
   ]
  },
  {
   "cell_type": "code",
   "execution_count": null,
   "metadata": {
    "id": "sV2Oz-5ta3zq"
   },
   "outputs": [],
   "source": [
    "from nltk.corpus import wordnet\n",
    "synonyms = []\n",
    "\n",
    "def get_wordnet_syn(signals):  \n",
    "  for int_sign in signals:\n",
    "    for syn in wordnet.synsets(int_sign):\n",
    "        for l in syn.lemmas():\n",
    "            synonyms.append(l.name())\n",
    "  return synonyms       \n",
    "  \n"
   ]
  },
  {
   "cell_type": "code",
   "execution_count": null,
   "metadata": {
    "id": "lANN2H2l136P"
   },
   "outputs": [],
   "source": [
    "synonyms=get_wordnet_syn(intentienality_signals)"
   ]
  },
  {
   "cell_type": "code",
   "execution_count": null,
   "metadata": {
    "id": "VtOXUt49bI8A"
   },
   "outputs": [],
   "source": [
    "enriched_intent_sign=synonyms + intentienality_signals"
   ]
  },
  {
   "cell_type": "code",
   "execution_count": null,
   "metadata": {
    "id": "LPGv4QjC4F-0"
   },
   "outputs": [],
   "source": [
    "for document in os.listdir():\n",
    "    f=open(document,\"r\")\n",
    "    lines=f.readlines()\n",
    "    "
   ]
  },
  {
   "cell_type": "code",
   "execution_count": null,
   "metadata": {
    "id": "1UuK4We4efx-"
   },
   "outputs": [],
   "source": [
    "mytree = ET.parse('1_21ecbplus.xml.xml')\n",
    "myroot = mytree.getroot()"
   ]
  },
  {
   "cell_type": "code",
   "execution_count": null,
   "metadata": {
    "colab": {
     "base_uri": "https://localhost:8080/",
     "height": 35
    },
    "executionInfo": {
     "elapsed": 633,
     "status": "ok",
     "timestamp": 1651318663349,
     "user": {
      "displayName": "REBBOUD Youssra",
      "userId": "00885731475713379313"
     },
     "user_tz": -120
    },
    "id": "k5i3hh58e2q0",
    "outputId": "098929ad-9b53-4e5b-c9e4-28d88ce8ac64"
   },
   "outputs": [
    {
     "data": {
      "application/vnd.google.colaboratory.intrinsic+json": {
       "type": "string"
      },
      "text/plain": [
       "'token'"
      ]
     },
     "execution_count": 10,
     "metadata": {},
     "output_type": "execute_result"
    }
   ],
   "source": [
    "myroot[2].tag"
   ]
  },
  {
   "cell_type": "code",
   "execution_count": null,
   "metadata": {
    "colab": {
     "base_uri": "https://localhost:8080/",
     "height": 35
    },
    "executionInfo": {
     "elapsed": 16,
     "status": "ok",
     "timestamp": 1651318665541,
     "user": {
      "displayName": "REBBOUD Youssra",
      "userId": "00885731475713379313"
     },
     "user_tz": -120
    },
    "id": "gwPD5wwzcAVs",
    "outputId": "c32a85ca-d448-40df-f18e-3b7c12d73bc9"
   },
   "outputs": [
    {
     "data": {
      "application/vnd.google.colaboratory.intrinsic+json": {
       "type": "string"
      },
      "text/plain": [
       "'2'"
      ]
     },
     "execution_count": 11,
     "metadata": {},
     "output_type": "execute_result"
    }
   ],
   "source": [
    "myroot[36].attrib['sentence']"
   ]
  },
  {
   "cell_type": "code",
   "execution_count": null,
   "metadata": {
    "id": "49KHit34IQu6"
   },
   "outputs": [],
   "source": [
    "sentences_tagged=[ElementTree.tostring(element).decode() for element in myroot]"
   ]
  },
  {
   "cell_type": "code",
   "execution_count": null,
   "metadata": {
    "id": "pqxGeCtZISvn"
   },
   "outputs": [],
   "source": [
    "Previous_sentence_number=0\n",
    "tagged_sentence=[]\n",
    "tagged_sentences=[]"
   ]
  },
  {
   "cell_type": "code",
   "execution_count": null,
   "metadata": {
    "id": "9vAv3CK9K91t"
   },
   "outputs": [],
   "source": [
    "tagged_sentence.append([ElementTree.tostring(element).decode() for element in myroot if (element.tag=='token' and int(element.attrib['sentence']) == Previous_sentence_number )])"
   ]
  },
  {
   "cell_type": "code",
   "execution_count": null,
   "metadata": {
    "id": "RNKPZ0DLQ3kN"
   },
   "outputs": [],
   "source": [
    "tagged_sentence"
   ]
  },
  {
   "cell_type": "code",
   "execution_count": null,
   "metadata": {
    "id": "2Rumpyy8c5fg"
   },
   "outputs": [],
   "source": [
    "sentence=[]\n",
    "sentences=[]"
   ]
  },
  {
   "cell_type": "code",
   "execution_count": 4,
   "metadata": {
    "executionInfo": {
     "elapsed": 41,
     "status": "ok",
     "timestamp": 1651422044999,
     "user": {
      "displayName": "REBBOUD Youssra",
      "userId": "00885731475713379313"
     },
     "user_tz": -120
    },
    "id": "IzzuMDtJQSll"
   },
   "outputs": [],
   "source": [
    "def get_tagged_sentences(myroot):\n",
    "  Previous_sentence_number=0\n",
    "  tagged_sentence=[]\n",
    "  tagged_sentences=[]\n",
    "  for  elm in myroot:\n",
    "    if elm.tag =='token':\n",
    "      if  elm.attrib['sentence']==Previous_sentence_number:\n",
    "        tagged_sentence.append(ElementTree.tostring(elm).decode())\n",
    "      else:\n",
    "        tagged_sentences.append(tagged_sentence)\n",
    "        tagged_sentence=[]\n",
    "        tagged_sentence.append(ElementTree.tostring(elm).decode())\n",
    "        Previous_sentence_number=elm.attrib['sentence']\n",
    "  return tagged_sentences"
   ]
  },
  {
   "cell_type": "code",
   "execution_count": null,
   "metadata": {
    "id": "TsphclQmh4dt"
   },
   "outputs": [],
   "source": [
    "tagged_sentences"
   ]
  },
  {
   "cell_type": "code",
   "execution_count": 5,
   "metadata": {
    "executionInfo": {
     "elapsed": 38,
     "status": "ok",
     "timestamp": 1651422045001,
     "user": {
      "displayName": "REBBOUD Youssra",
      "userId": "00885731475713379313"
     },
     "user_tz": -120
    },
    "id": "GWekdF2RUjHW"
   },
   "outputs": [],
   "source": [
    "def get_sentences(myroot): \n",
    "  Previous_sentence_number=0\n",
    "  sentences=[]\n",
    "  sentence=[]\n",
    "  sentences_p=[]\n",
    "  for  elm in myroot:\n",
    "    if elm.tag =='token':\n",
    "      if  int(elm.attrib['sentence'])==Previous_sentence_number:\n",
    "       sentence.append(elm.text)\n",
    "      else:\n",
    "        sentences.append(sentence)\n",
    "        sentence=[]\n",
    "        sentence.append(elm.text)\n",
    "        Previous_sentence_number=int(elm.attrib['sentence'])\n",
    "\n",
    "  for sen in sentences:\n",
    "    sentences_p.append(\" \".join(sen))\n",
    "  return sentences_p"
   ]
  },
  {
   "cell_type": "code",
   "execution_count": null,
   "metadata": {
    "id": "9hZ_GEAjELWb"
   },
   "outputs": [],
   "source": [
    "os.listdir()"
   ]
  },
  {
   "cell_type": "code",
   "execution_count": null,
   "metadata": {
    "id": "QCqLO0yNU4OO"
   },
   "outputs": [],
   "source": [
    "for document in os.listdir():\n",
    "  if document != 'README.txt' and document != '.DS_Store':\n",
    "    \n",
    "    for doc in os.listdir(document):\n",
    "      print(doc)\n",
    "   \n",
    "    "
   ]
  },
  {
   "cell_type": "code",
   "execution_count": null,
   "metadata": {
    "id": "9WqQcesNDvHT"
   },
   "outputs": [],
   "source": [
    "for topic in os.listdir():\n",
    "    if topic != 'README.txt' and topic != '.DS_Store':\n",
    "      os.chdir(topic)\n",
    "      for doc in os.listdir():\n",
    "        if doc != 'corpus.dtd':\n",
    "          print(doc)\n",
    "          mytree = ET.parse(doc)\n",
    "      os.chdir('/content/drive/MyDrive/kFLOW/EKAW 2022/data_sets/EventStoryLine-master/EventStoryLine-master/annotated_data/v1.0')"
   ]
  },
  {
   "cell_type": "code",
   "execution_count": 19,
   "metadata": {
    "executionInfo": {
     "elapsed": 417,
     "status": "ok",
     "timestamp": 1651422748301,
     "user": {
      "displayName": "REBBOUD Youssra",
      "userId": "00885731475713379313"
     },
     "user_tz": -120
    },
    "id": "V3k-EqKmS3xa"
   },
   "outputs": [],
   "source": [
    "def get_intention_xml():\n",
    "  intentionality_docs=[]\n",
    "  \n",
    "  for topic in os.listdir():\n",
    "    if topic != 'README.txt' and topic != '.DS_Store':\n",
    "      os.chdir(topic)\n",
    "      for doc in os.listdir():\n",
    "        if doc != 'corpus.dtd':\n",
    "          \n",
    "          mytree = ET.parse(doc)\n",
    "          myroot = mytree.getroot()\n",
    "          #sentences_tagged=[ElementTree.tostring(element).decode() for element in myroot[8]]\n",
    "          sentences_tagged=get_tagged_sentences(myroot)\n",
    "          sentences=get_sentences(myroot)\n",
    "          for sentence in sentences:\n",
    "            for sign in list(set(intentienality_signals)):\n",
    "              match = re.search(' +'+sign, sentence)\n",
    "              if match:\n",
    "                intentionality_docs.append([sentence, sign,doc,topic])\n",
    "      os.chdir('/content/drive/MyDrive/kFLOW/EKAW 2022/data_sets/EventStoryLine-master/EventStoryLine-master/annotated_data/v1.0')\n",
    "  return intentionality_docs  "
   ]
  },
  {
   "cell_type": "code",
   "execution_count": 20,
   "metadata": {
    "executionInfo": {
     "elapsed": 5299,
     "status": "ok",
     "timestamp": 1651422759184,
     "user": {
      "displayName": "REBBOUD Youssra",
      "userId": "00885731475713379313"
     },
     "user_tz": -120
    },
    "id": "Zd3WhEo-Us9Q"
   },
   "outputs": [],
   "source": [
    "intentionality_docs=get_intention_xml()"
   ]
  },
  {
   "cell_type": "code",
   "execution_count": 21,
   "metadata": {
    "colab": {
     "base_uri": "https://localhost:8080/"
    },
    "executionInfo": {
     "elapsed": 434,
     "status": "ok",
     "timestamp": 1651422762064,
     "user": {
      "displayName": "REBBOUD Youssra",
      "userId": "00885731475713379313"
     },
     "user_tz": -120
    },
    "id": "j5rYU7lwWfxp",
    "outputId": "ba153b15-d21c-4134-ad2a-b46abfba30d7"
   },
   "outputs": [
    {
     "data": {
      "text/plain": [
       "294"
      ]
     },
     "execution_count": 21,
     "metadata": {},
     "output_type": "execute_result"
    }
   ],
   "source": [
    "len(intentionality_docs)"
   ]
  },
  {
   "cell_type": "code",
   "execution_count": 10,
   "metadata": {
    "executionInfo": {
     "elapsed": 440,
     "status": "ok",
     "timestamp": 1651422576391,
     "user": {
      "displayName": "REBBOUD Youssra",
      "userId": "00885731475713379313"
     },
     "user_tz": -120
    },
    "id": "IRF4YNCQLzue"
   },
   "outputs": [],
   "source": [
    "with open('/content/drive/MyDrive/kFLOW/EKAW 2022/intention_eventStroyLine.txt', 'w') as filehandle:\n",
    "    for listitem in intentionality_docs:\n",
    "        filehandle.write('%s\\n' % listitem)"
   ]
  },
  {
   "cell_type": "code",
   "execution_count": 11,
   "metadata": {
    "executionInfo": {
     "elapsed": 10,
     "status": "ok",
     "timestamp": 1651422578821,
     "user": {
      "displayName": "REBBOUD Youssra",
      "userId": "00885731475713379313"
     },
     "user_tz": -120
    },
    "id": "WdbMs07CdBJy"
   },
   "outputs": [],
   "source": [
    "prevent_signals=['prevent', 'avert', 'forestall', 'head', 'obviate', 'preclude']"
   ]
  },
  {
   "cell_type": "code",
   "execution_count": 12,
   "metadata": {
    "executionInfo": {
     "elapsed": 18,
     "status": "ok",
     "timestamp": 1651422581690,
     "user": {
      "displayName": "REBBOUD Youssra",
      "userId": "00885731475713379313"
     },
     "user_tz": -120
    },
    "id": "SygYtQlDbEGJ"
   },
   "outputs": [],
   "source": [
    "def get_catena_prevent_verb():\n",
    "   Catena_prevent_verbal_list=[]\n",
    "   f=open(\"/content/drive/MyDrive/kFLOW/EKAW 2022/data_sets/CATENA-master/CATENA-master/resource/causal_verb.list\",\"r\")\n",
    "   causal_verb_list=[vb for vb in f]\n",
    "   Catena_prevent_verbal_list=[line.split('|||')[0] for line in causal_verb_list if re.sub(r'\\n| ','',line.split('|||')[1]) in ['PREVENT','PREVENT-AMBIGUOUS']]\n",
    "   return Catena_prevent_verbal_list"
   ]
  },
  {
   "cell_type": "code",
   "execution_count": 16,
   "metadata": {
    "executionInfo": {
     "elapsed": 3039,
     "status": "ok",
     "timestamp": 1651422623834,
     "user": {
      "displayName": "REBBOUD Youssra",
      "userId": "00885731475713379313"
     },
     "user_tz": -120
    },
    "id": "AnlQ_WTllpV0"
   },
   "outputs": [],
   "source": [
    "Catena_prevent_verbal_list=get_catena_prevent_verb()"
   ]
  },
  {
   "cell_type": "code",
   "execution_count": null,
   "metadata": {
    "id": "meOvZzfRS1ov"
   },
   "outputs": [],
   "source": [
    "syn=get_wordnet_syn(prevent_signals+Catena_prevent_verbal_list)"
   ]
  },
  {
   "cell_type": "code",
   "execution_count": null,
   "metadata": {
    "id": "6uP3LzUXfUGy"
   },
   "outputs": [],
   "source": [
    "syn"
   ]
  },
  {
   "cell_type": "code",
   "execution_count": null,
   "metadata": {
    "id": "HlCfr4g8ls1C"
   },
   "outputs": [],
   "source": [
    "Catena_prevent_verbal_list"
   ]
  },
  {
   "cell_type": "code",
   "execution_count": 14,
   "metadata": {
    "executionInfo": {
     "elapsed": 446,
     "status": "ok",
     "timestamp": 1651422609985,
     "user": {
      "displayName": "REBBOUD Youssra",
      "userId": "00885731475713379313"
     },
     "user_tz": -120
    },
    "id": "mQROUbBySpLv"
   },
   "outputs": [],
   "source": [
    "prevent_signals=['prevent', 'avert', 'forestall', 'head', 'obviate', 'preclude']\n",
    "def get_prevention_tml():\n",
    "  prevention_docs=[]\n",
    "  for topic in os.listdir():\n",
    "    if topic != 'README.txt' and topic != '.DS_Store':\n",
    "      os.chdir(topic)\n",
    "      for doc in os.listdir():\n",
    "        if doc != 'corpus.dtd':\n",
    "          \n",
    "          mytree = ET.parse(doc)\n",
    "          myroot = mytree.getroot()\n",
    "          #sentences_tagged=[ElementTree.tostring(element).decode() for element in myroot[8]]\n",
    "          sentences_tagged=get_tagged_sentences(myroot)\n",
    "          sentences=get_sentences(myroot)\n",
    "          for sentence in sentences:\n",
    "            #tokens=[token for token in sentence.split()]\n",
    "            for sign in list(set(prevent_signals+Catena_prevent_verbal_list)):\n",
    "              match = re.search(' +'+sign, sentence)\n",
    "              if match:\n",
    "              #if token in prevent_signals+syn:\n",
    "                prevention_docs.append([sentence, topic,doc])\n",
    "      os.chdir('/content/drive/MyDrive/kFLOW/EKAW 2022/data_sets/EventStoryLine-master/EventStoryLine-master/annotated_data/v1.0')\n",
    "  \n",
    "          \n",
    "  return prevention_docs"
   ]
  },
  {
   "cell_type": "code",
   "execution_count": 22,
   "metadata": {
    "executionInfo": {
     "elapsed": 4703,
     "status": "ok",
     "timestamp": 1651422790112,
     "user": {
      "displayName": "REBBOUD Youssra",
      "userId": "00885731475713379313"
     },
     "user_tz": -120
    },
    "id": "McpjvqONTB9X"
   },
   "outputs": [],
   "source": [
    "prevention_docs= get_prevention_tml()"
   ]
  },
  {
   "cell_type": "code",
   "execution_count": 23,
   "metadata": {
    "colab": {
     "base_uri": "https://localhost:8080/"
    },
    "executionInfo": {
     "elapsed": 402,
     "status": "ok",
     "timestamp": 1651422800536,
     "user": {
      "displayName": "REBBOUD Youssra",
      "userId": "00885731475713379313"
     },
     "user_tz": -120
    },
    "id": "zkSShxJbeTjt",
    "outputId": "0bcd7e44-1f2f-45ae-b8fe-7ab88d4efedf"
   },
   "outputs": [
    {
     "data": {
      "text/plain": [
       "188"
      ]
     },
     "execution_count": 23,
     "metadata": {},
     "output_type": "execute_result"
    }
   ],
   "source": [
    "len(prevention_docs)"
   ]
  },
  {
   "cell_type": "code",
   "execution_count": 24,
   "metadata": {
    "executionInfo": {
     "elapsed": 451,
     "status": "ok",
     "timestamp": 1651422818357,
     "user": {
      "displayName": "REBBOUD Youssra",
      "userId": "00885731475713379313"
     },
     "user_tz": -120
    },
    "id": "lmcmfk7kNvVw"
   },
   "outputs": [],
   "source": [
    "with open('/content/drive/MyDrive/kFLOW/EKAW 2022/prevention_eventStroyLine.txt', 'w') as filehandle:\n",
    "    for listitem in prevention_docs:\n",
    "        filehandle.write('%s\\n' % listitem)"
   ]
  },
  {
   "cell_type": "code",
   "execution_count": null,
   "metadata": {
    "id": "mDnkZAM8eaOC"
   },
   "outputs": [],
   "source": []
  },
  {
   "cell_type": "code",
   "execution_count": 25,
   "metadata": {
    "executionInfo": {
     "elapsed": 598,
     "status": "ok",
     "timestamp": 1651422852769,
     "user": {
      "displayName": "REBBOUD Youssra",
      "userId": "00885731475713379313"
     },
     "user_tz": -120
    },
    "id": "Vef_KRSFfeDX"
   },
   "outputs": [],
   "source": [
    "enable_signals=['allow', 'empower', 'let', 'permit','enable','authorize'\n",
    ",'warrant'\n",
    ",'license'\n",
    ",'qualify'\n",
    ",'allow'\n",
    ",'permit'\n",
    ",'entitle'\n",
    "\n",
    ",'accredit'\n",
    ",'legalize'\n",
    ",'validate'\n",
    ",'commission'\n",
    ",'delegate'\n",
    "]"
   ]
  },
  {
   "cell_type": "code",
   "execution_count": 26,
   "metadata": {
    "executionInfo": {
     "elapsed": 428,
     "status": "ok",
     "timestamp": 1651422856717,
     "user": {
      "displayName": "REBBOUD Youssra",
      "userId": "00885731475713379313"
     },
     "user_tz": -120
    },
    "id": "JJUbKI6oAuPF"
   },
   "outputs": [],
   "source": [
    "def get_catena_enable_verb():\n",
    "   Catena_enable_verbal_list=[]\n",
    "   f=open(\"/content/drive/MyDrive/kFLOW/EKAW 2022/data_sets/CATENA-master/CATENA-master/resource/causal_verb.list\",\"r\")\n",
    "   causal_verb_list=[vb for vb in f]\n",
    "   Catena_prevent_verbal_list=[line.split('|||')[0] for line in causal_verb_list if re.sub(r'\\n| ','',line.split('|||')[1]) in ['ENABLE']]\n",
    "   return Catena_enable_verbal_list"
   ]
  },
  {
   "cell_type": "code",
   "execution_count": 27,
   "metadata": {
    "executionInfo": {
     "elapsed": 7,
     "status": "ok",
     "timestamp": 1651422858634,
     "user": {
      "displayName": "REBBOUD Youssra",
      "userId": "00885731475713379313"
     },
     "user_tz": -120
    },
    "id": "4gkbYh-PBzV9"
   },
   "outputs": [],
   "source": [
    "Catena_enable_verbal_list=get_catena_enable_verb()"
   ]
  },
  {
   "cell_type": "code",
   "execution_count": null,
   "metadata": {
    "id": "M-ucgnQXB9wV"
   },
   "outputs": [],
   "source": [
    "enable_syn=get_wordnet_syn(enable_signals+Catena_enable_verbal_list)"
   ]
  },
  {
   "cell_type": "code",
   "execution_count": 44,
   "metadata": {
    "executionInfo": {
     "elapsed": 1084,
     "status": "ok",
     "timestamp": 1651423205607,
     "user": {
      "displayName": "REBBOUD Youssra",
      "userId": "00885731475713379313"
     },
     "user_tz": -120
    },
    "id": "AQpCSXVsebtH"
   },
   "outputs": [],
   "source": [
    "os.chdir('/content/drive/MyDrive/kFLOW/EKAW 2022/data_sets/EventStoryLine-master/EventStoryLine-master/annotated_data/v1.0')\n",
    "  "
   ]
  },
  {
   "cell_type": "code",
   "execution_count": 30,
   "metadata": {
    "executionInfo": {
     "elapsed": 558,
     "status": "ok",
     "timestamp": 1651422889005,
     "user": {
      "displayName": "REBBOUD Youssra",
      "userId": "00885731475713379313"
     },
     "user_tz": -120
    },
    "id": "2HgVhtD53Q4C"
   },
   "outputs": [],
   "source": [
    "\n",
    "def get_enabl_xml():\n",
    "  enable_docs=[]\n",
    "  for topic in os.listdir():\n",
    "    if topic != 'README.txt' and topic != '.DS_Store':\n",
    "      os.chdir(topic)\n",
    "      for doc in os.listdir():\n",
    "        if doc != 'corpus.dtd':\n",
    "          \n",
    "          mytree = ET.parse(doc)\n",
    "          myroot = mytree.getroot()\n",
    "              #sentences_tagged=[ElementTree.tostring(element).decode() for element in myroot[8]]\n",
    "          sentences_tagged=get_tagged_sentences(myroot)\n",
    "          sentences=get_sentences(myroot)\n",
    "          for sentence in sentences:\n",
    "            #tokens=[token for token in sentence.split()]\n",
    "            for sign in list(set(enable_signals+Catena_enable_verbal_list)):\n",
    "              match = re.search(' +'+sign, sentence)\n",
    "              if match:\n",
    "              #if token in prevent_signals+syn:\n",
    "                enable_docs.append([sentence, sign,doc,topic])\n",
    "      os.chdir('/content/drive/MyDrive/kFLOW/EKAW 2022/data_sets/EventStoryLine-master/EventStoryLine-master/annotated_data/v1.0')\n",
    "  \n",
    "  return enable_docs"
   ]
  },
  {
   "cell_type": "code",
   "execution_count": 33,
   "metadata": {
    "executionInfo": {
     "elapsed": 5292,
     "status": "ok",
     "timestamp": 1651422936760,
     "user": {
      "displayName": "REBBOUD Youssra",
      "userId": "00885731475713379313"
     },
     "user_tz": -120
    },
    "id": "fPcAlmAiCUrt"
   },
   "outputs": [],
   "source": [
    "enable_docs=get_enabl_xml()"
   ]
  },
  {
   "cell_type": "code",
   "execution_count": 34,
   "metadata": {
    "colab": {
     "base_uri": "https://localhost:8080/"
    },
    "executionInfo": {
     "elapsed": 393,
     "status": "ok",
     "timestamp": 1651423085666,
     "user": {
      "displayName": "REBBOUD Youssra",
      "userId": "00885731475713379313"
     },
     "user_tz": -120
    },
    "id": "GpWb80rAClJs",
    "outputId": "4435416f-cc9a-47c6-ed8d-a1cd823e2413"
   },
   "outputs": [
    {
     "data": {
      "text/plain": [
       "78"
      ]
     },
     "execution_count": 34,
     "metadata": {},
     "output_type": "execute_result"
    }
   ],
   "source": [
    "len(enable_docs)"
   ]
  },
  {
   "cell_type": "code",
   "execution_count": 35,
   "metadata": {
    "executionInfo": {
     "elapsed": 405,
     "status": "ok",
     "timestamp": 1651423106213,
     "user": {
      "displayName": "REBBOUD Youssra",
      "userId": "00885731475713379313"
     },
     "user_tz": -120
    },
    "id": "pCLjz8JEmJkJ"
   },
   "outputs": [],
   "source": [
    "with open('/content/drive/MyDrive/kFLOW/EKAW 2022/enable_eventStroyLine.txt', 'w') as filehandle:\n",
    "    for listitem in enable_docs:\n",
    "        filehandle.write('%s\\n' % listitem)"
   ]
  },
  {
   "cell_type": "code",
   "execution_count": 36,
   "metadata": {
    "executionInfo": {
     "elapsed": 426,
     "status": "ok",
     "timestamp": 1651423110075,
     "user": {
      "displayName": "REBBOUD Youssra",
      "userId": "00885731475713379313"
     },
     "user_tz": -120
    },
    "id": "VdA9j5kOD0tt"
   },
   "outputs": [],
   "source": [
    "def get_catena_cause_verb():\n",
    "   Catena_enable_verbal_list=[]\n",
    "   f=open(\"/content/drive/MyDrive/kFLOW/EKAW 2022/data_sets/CATENA-master/CATENA-master/resource/causal_verb.list\",\"r\")\n",
    "   causal_verb_list=[vb for vb in f]\n",
    "   Catena_prevent_verbal_list=[line.split('|||')[0] for line in causal_verb_list if re.sub(r'\\n| ','',line.split('|||')[1]) in ['CAUSE','CAUSE-AMBIGUOUS']]\n",
    "   return Catena_enable_verbal_list"
   ]
  },
  {
   "cell_type": "code",
   "execution_count": 37,
   "metadata": {
    "executionInfo": {
     "elapsed": 27,
     "status": "ok",
     "timestamp": 1651423111745,
     "user": {
      "displayName": "REBBOUD Youssra",
      "userId": "00885731475713379313"
     },
     "user_tz": -120
    },
    "id": "nVq8lw35D0tt"
   },
   "outputs": [],
   "source": [
    "Catena_causal_verbal_list=get_catena_cause_verb()"
   ]
  },
  {
   "cell_type": "code",
   "execution_count": null,
   "metadata": {
    "id": "9qlNe1caD0tt"
   },
   "outputs": [],
   "source": [
    "causal_syn=get_wordnet_syn(enable_signals+Catena_causal_verbal_list)"
   ]
  },
  {
   "cell_type": "code",
   "execution_count": 38,
   "metadata": {
    "executionInfo": {
     "elapsed": 6,
     "status": "ok",
     "timestamp": 1651423114045,
     "user": {
      "displayName": "REBBOUD Youssra",
      "userId": "00885731475713379313"
     },
     "user_tz": -120
    },
    "id": "CpaBiKdxGZse"
   },
   "outputs": [],
   "source": [
    "def get_catena_causal_signal_list():\n",
    "  f=open(\"/content/drive/MyDrive/kFLOW/EKAW 2022/data_sets/CATENA-master/CATENA-master/resource/causal_signal.list\",\"r\")\n",
    "  lines=[i for i in f]\n",
    "  catena_causal_signals=[ line.split(\"|||\")[1] for line in lines]+ [ re.sub(r'\\n| ',' ',line.split(\"|||\")[2]) for line in lines]\n",
    "  return catena_causal_signals"
   ]
  },
  {
   "cell_type": "code",
   "execution_count": 39,
   "metadata": {
    "executionInfo": {
     "elapsed": 883,
     "status": "ok",
     "timestamp": 1651423117668,
     "user": {
      "displayName": "REBBOUD Youssra",
      "userId": "00885731475713379313"
     },
     "user_tz": -120
    },
    "id": "O2oFAuseHVRn"
   },
   "outputs": [],
   "source": [
    "catena_causal_signals=get_catena_causal_signal_list()"
   ]
  },
  {
   "cell_type": "code",
   "execution_count": null,
   "metadata": {
    "id": "i73HlSX-H2OL"
   },
   "outputs": [],
   "source": [
    "catena_causal_signals"
   ]
  },
  {
   "cell_type": "code",
   "execution_count": 42,
   "metadata": {
    "executionInfo": {
     "elapsed": 6,
     "status": "ok",
     "timestamp": 1651423186626,
     "user": {
      "displayName": "REBBOUD Youssra",
      "userId": "00885731475713379313"
     },
     "user_tz": -120
    },
    "id": "DIjbT53HD0tt"
   },
   "outputs": [],
   "source": [
    "def get_causal_xml():\n",
    "  causal_docs=[]\n",
    "  for topic in os.listdir():\n",
    "    if topic != 'README.txt' and topic != '.DS_Store':\n",
    "      os.chdir(topic)\n",
    "      for doc in os.listdir():\n",
    "        if doc != 'corpus.dtd':\n",
    "          \n",
    "          mytree = ET.parse(doc)\n",
    "          myroot = mytree.getroot()\n",
    "              #sentences_tagged=[ElementTree.tostring(element).decode() for element in myroot[8]]\n",
    "          sentences_tagged=get_tagged_sentences(myroot)\n",
    "          sentences=get_sentences(myroot)\n",
    "          for sentence in sentences:\n",
    "            for signal in catena_causal_signals+Catena_causal_verbal_list:\n",
    "              match2=re.search(' +'+signal,sentence)\n",
    "              if match2:\n",
    "                causal_docs.append([sentence, signal,doc,topic])\n",
    "      os.chdir('/content/drive/MyDrive/kFLOW/EKAW 2022/data_sets/EventStoryLine-master/EventStoryLine-master/annotated_data/v1.0')\n",
    "  \n",
    "\n",
    "  return  causal_docs"
   ]
  },
  {
   "cell_type": "code",
   "execution_count": 45,
   "metadata": {
    "executionInfo": {
     "elapsed": 6933,
     "status": "ok",
     "timestamp": 1651423218081,
     "user": {
      "displayName": "REBBOUD Youssra",
      "userId": "00885731475713379313"
     },
     "user_tz": -120
    },
    "id": "AhQLbYPkD0tt"
   },
   "outputs": [],
   "source": [
    "causal_docs=get_causal_xml()"
   ]
  },
  {
   "cell_type": "code",
   "execution_count": 46,
   "metadata": {
    "colab": {
     "base_uri": "https://localhost:8080/"
    },
    "executionInfo": {
     "elapsed": 447,
     "status": "ok",
     "timestamp": 1651423221661,
     "user": {
      "displayName": "REBBOUD Youssra",
      "userId": "00885731475713379313"
     },
     "user_tz": -120
    },
    "id": "Ejv3AvTDmxqg",
    "outputId": "3424ca60-e755-42d4-a837-2027f1849c51"
   },
   "outputs": [
    {
     "data": {
      "text/plain": [
       "3209"
      ]
     },
     "execution_count": 46,
     "metadata": {},
     "output_type": "execute_result"
    }
   ],
   "source": [
    "len(causal_docs)"
   ]
  },
  {
   "cell_type": "code",
   "execution_count": 47,
   "metadata": {
    "executionInfo": {
     "elapsed": 455,
     "status": "ok",
     "timestamp": 1651423261688,
     "user": {
      "displayName": "REBBOUD Youssra",
      "userId": "00885731475713379313"
     },
     "user_tz": -120
    },
    "id": "jhkc-eoenHbJ"
   },
   "outputs": [],
   "source": [
    "with open('/content/drive/MyDrive/kFLOW/EKAW 2022/cause_eventStroyLine.txt', 'w') as filehandle:\n",
    "    for listitem in causal_docs:\n",
    "        filehandle.write('%s\\n' % listitem)"
   ]
  },
  {
   "cell_type": "code",
   "execution_count": 48,
   "metadata": {
    "colab": {
     "base_uri": "https://localhost:8080/"
    },
    "executionInfo": {
     "elapsed": 2315,
     "status": "ok",
     "timestamp": 1651423264441,
     "user": {
      "displayName": "REBBOUD Youssra",
      "userId": "00885731475713379313"
     },
     "user_tz": -120
    },
    "id": "tv2m7hQQQmVD",
    "outputId": "eee10143-e2f3-45f2-cee6-b1cf2bffdb81"
   },
   "outputs": [
    {
     "name": "stdout",
     "output_type": "stream",
     "text": [
      "[[[attack, did, not, injury, and, be], 'cause'], [[wo, nt, able], 'cause']]\n"
     ]
    }
   ],
   "source": [
    "import spacy\n",
    "from spacy import displacy\n",
    "import pandas as pd\n",
    "nlp = spacy.load(\"en_core_web_sm\")\n",
    "doc = nlp(u'the attack did not cause the injury and wont be able to handle the stuff ')\n",
    "negation_tokens = [tok for tok in doc if tok.dep_ == 'neg']\n",
    "negation_head_tokens = [token.head for token in negation_tokens]\n",
    "if negation_head_tokens:\n",
    "  print([[[child for child in token.children],token.head.text] for token in negation_head_tokens])\n"
   ]
  },
  {
   "cell_type": "code",
   "execution_count": null,
   "metadata": {
    "colab": {
     "base_uri": "https://localhost:8080/"
    },
    "executionInfo": {
     "elapsed": 39,
     "status": "ok",
     "timestamp": 1651403201830,
     "user": {
      "displayName": "REBBOUD Youssra",
      "userId": "00885731475713379313"
     },
     "user_tz": -120
    },
    "id": "vDcu_IEcRNJ-",
    "outputId": "555a4b81-bc77-4417-f74e-bcfe52b7664c"
   },
   "outputs": [
    {
     "name": "stdout",
     "output_type": "stream",
     "text": [
      "cause ROOT cause VERB [attack, did, not, injury, and, be]\n",
      "be conj cause VERB [wo, nt, able]\n"
     ]
    }
   ],
   "source": [
    "for token in negation_head_tokens:\n",
    "    print(token.text, token.dep_, token.head.text, token.head.pos_, [child for child in token.children])"
   ]
  },
  {
   "cell_type": "code",
   "execution_count": 49,
   "metadata": {
    "executionInfo": {
     "elapsed": 15,
     "status": "ok",
     "timestamp": 1651423266894,
     "user": {
      "displayName": "REBBOUD Youssra",
      "userId": "00885731475713379313"
     },
     "user_tz": -120
    },
    "id": "7HpmbUyVMmuJ"
   },
   "outputs": [],
   "source": [
    "def get_not_causal_xml():\n",
    "  not_cause_docs=[]\n",
    "  causal_docs=get_causal_xml()\n",
    "  for doc in causal_docs:\n",
    "    sentence=nlp(doc[0])\n",
    "    negation_tokens = [tok for tok in sentence if tok.dep_ == 'neg']\n",
    "    negation_head_tokens = [token.head for token in negation_tokens]\n",
    "    if negation_head_tokens:\n",
    "      not_cause_docs.append([doc,[[[child for child in token.children],token.head.text] for token in negation_head_tokens]])\n",
    "\n",
    "\n",
    "  return  not_cause_docs"
   ]
  },
  {
   "cell_type": "code",
   "execution_count": 50,
   "metadata": {
    "executionInfo": {
     "elapsed": 46682,
     "status": "ok",
     "timestamp": 1651423315880,
     "user": {
      "displayName": "REBBOUD Youssra",
      "userId": "00885731475713379313"
     },
     "user_tz": -120
    },
    "id": "bmRG7SLsUwaK"
   },
   "outputs": [],
   "source": [
    "not_cause_docs=get_not_causal_xml()"
   ]
  },
  {
   "cell_type": "code",
   "execution_count": 51,
   "metadata": {
    "colab": {
     "base_uri": "https://localhost:8080/"
    },
    "executionInfo": {
     "elapsed": 435,
     "status": "ok",
     "timestamp": 1651423395638,
     "user": {
      "displayName": "REBBOUD Youssra",
      "userId": "00885731475713379313"
     },
     "user_tz": -120
    },
    "id": "cHwnxhgSU83S",
    "outputId": "5e1251fe-e1e3-4623-911b-6ca9c59f4179"
   },
   "outputs": [
    {
     "data": {
      "text/plain": [
       "337"
      ]
     },
     "execution_count": 51,
     "metadata": {},
     "output_type": "execute_result"
    }
   ],
   "source": [
    "len(not_cause_docs)"
   ]
  },
  {
   "cell_type": "code",
   "execution_count": 52,
   "metadata": {
    "executionInfo": {
     "elapsed": 472,
     "status": "ok",
     "timestamp": 1651423414313,
     "user": {
      "displayName": "REBBOUD Youssra",
      "userId": "00885731475713379313"
     },
     "user_tz": -120
    },
    "id": "r2qhscJlPLNO"
   },
   "outputs": [],
   "source": [
    "with open('/content/drive/MyDrive/kFLOW/EKAW 2022/non_cause_eventStroyLine.txt', 'w') as filehandle:\n",
    "    for listitem in not_cause_docs:\n",
    "        filehandle.write('%s\\n' % listitem)"
   ]
  }
 ],
 "metadata": {
  "colab": {
   "authorship_tag": "ABX9TyOKxdABGxr2z7re6OBDiRkE",
   "collapsed_sections": [],
   "mount_file_id": "1s6yJhdYA5blA_6VUxzW9GQfkzw4HzJub",
   "name": "get_relation_catXML.ipynb",
   "provenance": []
  },
  "kernelspec": {
   "display_name": "Python 3 (ipykernel)",
   "language": "python",
   "name": "python3"
  },
  "language_info": {
   "codemirror_mode": {
    "name": "ipython",
    "version": 3
   },
   "file_extension": ".py",
   "mimetype": "text/x-python",
   "name": "python",
   "nbconvert_exporter": "python",
   "pygments_lexer": "ipython3",
   "version": "3.9.7"
  }
 },
 "nbformat": 4,
 "nbformat_minor": 4
}
