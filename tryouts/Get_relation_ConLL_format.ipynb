{
 "cells": [
  {
   "cell_type": "code",
   "execution_count": null,
   "metadata": {
    "id": "FfGETgjSLtI8"
   },
   "outputs": [],
   "source": [
    "import os \n",
    "import re"
   ]
  },
  {
   "cell_type": "code",
   "execution_count": null,
   "metadata": {
    "id": "ZvcYNfdDLwZ_"
   },
   "outputs": [],
   "source": [
    "os.chdir('/content/drive/MyDrive/kFLOW/Bert paper replication/datasets/CATENA-master/CATENA-master/data/Catena-train_COL')"
   ]
  },
  {
   "cell_type": "code",
   "execution_count": null,
   "metadata": {
    "id": "Nx3OyLcwcgTU"
   },
   "outputs": [],
   "source": [
    "intentienality_signals=['want','plan','aim', 'ambition', 'aspiration', 'bourne' , 'bourn', 'design', 'dream', 'end', 'goal', 'idea', 'ideal', 'intent', 'mark', 'mean', 'object', 'objective', 'point', 'pretension', 'purpose', 'target']"
   ]
  },
  {
   "cell_type": "code",
   "execution_count": null,
   "metadata": {
    "colab": {
     "base_uri": "https://localhost:8080/"
    },
    "executionInfo": {
     "elapsed": 732,
     "status": "ok",
     "timestamp": 1650490094648,
     "user": {
      "displayName": "REBBOUD Youssra",
      "userId": "00885731475713379313"
     },
     "user_tz": -120
    },
    "id": "Xoy6rgIvdBx7",
    "outputId": "3c7ab4cc-3925-448d-cb26-af1b209770f1"
   },
   "outputs": [
    {
     "name": "stdout",
     "output_type": "stream",
     "text": [
      "[nltk_data] Downloading package wordnet to /root/nltk_data...\n",
      "[nltk_data]   Unzipping corpora/wordnet.zip.\n"
     ]
    },
    {
     "data": {
      "text/plain": [
       "True"
      ]
     },
     "execution_count": 5,
     "metadata": {},
     "output_type": "execute_result"
    }
   ],
   "source": [
    "import nltk\n",
    "nltk.download('wordnet')"
   ]
  },
  {
   "cell_type": "code",
   "execution_count": null,
   "metadata": {
    "id": "sV2Oz-5ta3zq"
   },
   "outputs": [],
   "source": [
    "from nltk.corpus import wordnet\n",
    "synonyms = []\n",
    "\n",
    "def get_wordnet_syn(signals):  \n",
    "  for int_sign in signals:\n",
    "    for syn in wordnet.synsets(int_sign):\n",
    "        for l in syn.lemmas():\n",
    "            synonyms.append(l.name())\n",
    "  return synonyms       \n",
    "  \n"
   ]
  },
  {
   "cell_type": "code",
   "execution_count": null,
   "metadata": {
    "id": "lANN2H2l136P"
   },
   "outputs": [],
   "source": [
    "synonyms=get_wordnet_syn(intentienality_signals)"
   ]
  },
  {
   "cell_type": "code",
   "execution_count": null,
   "metadata": {
    "id": "VtOXUt49bI8A"
   },
   "outputs": [],
   "source": [
    "enriched_intent_sign=synonyms + intentienality_signals"
   ]
  },
  {
   "cell_type": "code",
   "execution_count": null,
   "metadata": {
    "id": "LPGv4QjC4F-0"
   },
   "outputs": [],
   "source": [
    "enriched_intent_sign"
   ]
  },
  {
   "cell_type": "code",
   "execution_count": null,
   "metadata": {
    "id": "WuFvSkITWB5T"
   },
   "outputs": [],
   "source": [
    "def get_stem(line):\n",
    "  if  line.strip():\n",
    "    return line.split(\"\\t\")[3]\n",
    "def get_token(line):\n",
    "  if  line.strip():\n",
    "    return line.split(\"\\t\")[0]\n",
    "\n",
    "def get_sentence_number(line):\n",
    "   if  line.strip():\n",
    "     return line.split(\"\\t\")[2]"
   ]
  },
  {
   "cell_type": "code",
   "execution_count": null,
   "metadata": {
    "id": "FVql6MisRYxK"
   },
   "outputs": [],
   "source": [
    "def get_intention_docs():\n",
    "  intention_docs=[]\n",
    "  temp=[]\n",
    "  intention_sign=[]\n",
    "  for document in os.listdir():\n",
    "    f=open(document,\"r\")\n",
    "    lines=f.readlines()\n",
    "    for idx, line in enumerate(lines):\n",
    "      if idx < len(lines):\n",
    "        if  get_sentence_number(lines[(idx-1)%len(lines)]) != get_sentence_number(line):\n",
    "              temp=[]\n",
    "      stem= get_stem(line)\n",
    "      token=get_token(line)\n",
    "      temp.append(token)\n",
    "      \n",
    "      if (stem or token) in intentienality_signals:\n",
    "        intention_sign.append(stem) \n",
    "      if len(intention_sign)!= 0:\n",
    "        if  get_sentence_number(lines[(idx+1)%len(lines)]) != get_sentence_number(line):\n",
    "              intention_docs.append([document,get_sentence_number(line),\" \".join(temp),intention_sign])\n",
    "              intention_sign=[]\n",
    "            \n",
    "  return intention_docs      \n"
   ]
  },
  {
   "cell_type": "code",
   "execution_count": null,
   "metadata": {
    "colab": {
     "base_uri": "https://localhost:8080/"
    },
    "executionInfo": {
     "elapsed": 2905,
     "status": "ok",
     "timestamp": 1650372176454,
     "user": {
      "displayName": "REBBOUD Youssra",
      "userId": "00885731475713379313"
     },
     "user_tz": -120
    },
    "id": "sAUU4GP-TQbd",
    "outputId": "a09e6936-b7d5-4a31-8495-201308ad0477"
   },
   "outputs": [
    {
     "data": {
      "text/plain": [
       "397"
      ]
     },
     "execution_count": 6,
     "metadata": {},
     "output_type": "execute_result"
    }
   ],
   "source": [
    "len(get_intention_docs())"
   ]
  },
  {
   "cell_type": "code",
   "execution_count": null,
   "metadata": {
    "id": "oraZFdlbMn96"
   },
   "outputs": [],
   "source": [
    "get_intention_docs()"
   ]
  },
  {
   "cell_type": "code",
   "execution_count": null,
   "metadata": {
    "id": "8NVtPKWEMxQm"
   },
   "outputs": [],
   "source": [
    "a=  ['Finally',\n",
    "   ',',\n",
    "   'when',\n",
    "   'Iraq',\n",
    "   'failed',\n",
    "   'to',\n",
    "   'respond',\n",
    "   'to',\n",
    "   'the',\n",
    "   'U.S.',\n",
    "   'ultimatum',\n",
    "   ',',\n",
    "   'Mr.',\n",
    "   'Bush',\n",
    "   'let',\n",
    "   'the',\n",
    "   'ground',\n",
    "   'offensive',\n",
    "   'begin',\n",
    "   'as',\n",
    "   'previously',\n",
    "   'planned',\n",
    "   'Saturday',\n",
    "   'night',\n",
    "   '.']"
   ]
  },
  {
   "cell_type": "code",
   "execution_count": null,
   "metadata": {
    "id": "ENu_nwdyMzYI"
   },
   "outputs": [],
   "source": [
    "\" \".join(a)"
   ]
  },
  {
   "cell_type": "code",
   "execution_count": null,
   "metadata": {
    "id": "U-BTnF5YMQdi"
   },
   "outputs": [],
   "source": [
    "len(os.listdir())"
   ]
  },
  {
   "cell_type": "code",
   "execution_count": null,
   "metadata": {
    "id": "HxxIEBngkMEb"
   },
   "outputs": [],
   "source": [
    "f=open('AP900815-0044.col',\"r\")\n",
    "lines=f.readlines()"
   ]
  },
  {
   "cell_type": "code",
   "execution_count": null,
   "metadata": {
    "id": "ulTCBYc23flI"
   },
   "outputs": [],
   "source": [
    "for idx, line in enumerate(lines):\n",
    " if  get_sentence_number(lines[(idx+1)%lenght]) != get_sentence_number(line):\n",
    "            temp=[]"
   ]
  },
  {
   "cell_type": "code",
   "execution_count": null,
   "metadata": {
    "id": "SiS88ydXoNr8"
   },
   "outputs": [],
   "source": [
    "lenght= len(list(lines))\n",
    "for idx, elm in enumerate(lines):\n",
    "  print(elm)\n",
    "  print('___________________________')\n",
    "  print( lines[(idx+1)%lenght])\n",
    "  "
   ]
  },
  {
   "cell_type": "code",
   "execution_count": null,
   "metadata": {
    "colab": {
     "base_uri": "https://localhost:8080/"
    },
    "executionInfo": {
     "elapsed": 427,
     "status": "ok",
     "timestamp": 1650197348364,
     "user": {
      "displayName": "REBBOUD Youssra",
      "userId": "00885731475713379313"
     },
     "user_tz": -120
    },
    "id": "KYE9sx_NaeWC",
    "outputId": "477d521e-1d60-429a-f4db-58a409c62f2b"
   },
   "outputs": [
    {
     "name": "stdout",
     "output_type": "stream",
     "text": [
      "None\n"
     ]
    }
   ],
   "source": [
    "print(intention_docs)"
   ]
  },
  {
   "cell_type": "code",
   "execution_count": null,
   "metadata": {
    "id": "eiqCXr9gNz02"
   },
   "outputs": [],
   "source": [
    "f.close()"
   ]
  },
  {
   "cell_type": "code",
   "execution_count": null,
   "metadata": {
    "id": "MNZoQ_FZa4nu"
   },
   "outputs": [],
   "source": [
    "enable_signals=['allow', 'empower', 'let', 'permit']"
   ]
  },
  {
   "cell_type": "code",
   "execution_count": null,
   "metadata": {
    "id": "rmA9dAy6c0Ba"
   },
   "outputs": [],
   "source": [
    "from nltk.corpus import wordnet\n",
    "syn_enable= []\n",
    "  \n",
    "for enable_sign in enable_signals:\n",
    "  for syn in wordnet.synsets(enable_sign):\n",
    "      for l in syn.lemmas():\n",
    "          syn_enable.append(l.name())"
   ]
  },
  {
   "cell_type": "code",
   "execution_count": null,
   "metadata": {
    "id": "ng5uCTHcddMg"
   },
   "outputs": [],
   "source": [
    "syn_enable"
   ]
  },
  {
   "cell_type": "code",
   "execution_count": null,
   "metadata": {
    "id": "8EwzOzO3d8GQ"
   },
   "outputs": [],
   "source": [
    "enable_extended_list= syn_enable + enable_signals "
   ]
  },
  {
   "cell_type": "code",
   "execution_count": null,
   "metadata": {
    "id": "-W_q2ll_f7Eq"
   },
   "outputs": [],
   "source": [
    "enable_extended_list.remove('have')\n"
   ]
  },
  {
   "cell_type": "code",
   "execution_count": null,
   "metadata": {
    "id": "cwnbxVIIdpU6"
   },
   "outputs": [],
   "source": [
    "def get_enable_docs():\n",
    "  enable_docs=[]\n",
    "  temp=[]\n",
    "  enbl_sign=[]\n",
    "  for document in os.listdir():\n",
    "    f=open(document,\"r\")\n",
    "    lines=f.readlines()\n",
    "    for idx, line in enumerate(lines):\n",
    "      if idx < len(lines):\n",
    "        if  get_sentence_number(lines[(idx-1)%len(lines)]) != get_sentence_number(line):\n",
    "              temp=[]\n",
    "      stem= get_stem(line)\n",
    "      token=get_token(line)\n",
    "      temp.append(token)\n",
    "      \n",
    "      if (stem or token) in enable_extended_list:\n",
    "        enbl_sign.append(stem) \n",
    "      if len(enbl_sign)!= 0:\n",
    "        if  get_sentence_number(lines[(idx+1)%len(lines)]) != get_sentence_number(line):\n",
    "              enable_docs.append([document,get_sentence_number(line),\" \".join(temp),enbl_sign])\n",
    "              enbl_sign=[]\n",
    "            \n",
    "  return enable_docs      "
   ]
  },
  {
   "cell_type": "code",
   "execution_count": null,
   "metadata": {
    "colab": {
     "base_uri": "https://localhost:8080/"
    },
    "executionInfo": {
     "elapsed": 1165,
     "status": "ok",
     "timestamp": 1650232772024,
     "user": {
      "displayName": "REBBOUD Youssra",
      "userId": "00885731475713379313"
     },
     "user_tz": -120
    },
    "id": "1kRdxRQRd1TP",
    "outputId": "0e7b6c9d-4283-4df6-d91c-5df8b234b145"
   },
   "outputs": [
    {
     "data": {
      "text/plain": [
       "248"
      ]
     },
     "execution_count": 35,
     "metadata": {},
     "output_type": "execute_result"
    }
   ],
   "source": [
    "len(get_enable_docs())"
   ]
  },
  {
   "cell_type": "code",
   "execution_count": null,
   "metadata": {
    "id": "dEoug-TPejs9"
   },
   "outputs": [],
   "source": [
    "get_enable_docs()"
   ]
  },
  {
   "cell_type": "code",
   "execution_count": null,
   "metadata": {
    "id": "5F9X37ekiWWh"
   },
   "outputs": [],
   "source": [
    "prevent_signals=['prevent', 'avert', 'forestall', 'head ', 'obviate', 'preclude']"
   ]
  },
  {
   "cell_type": "code",
   "execution_count": null,
   "metadata": {
    "id": "rbt5Zq6TjNyi"
   },
   "outputs": [],
   "source": [
    "from nltk.corpus import wordnet\n",
    "syn_prevent= []\n",
    "  \n",
    "for prevent_sign in prevent_signals:\n",
    "  for syn in wordnet.synsets(prevent_sign):\n",
    "      for l in syn.lemmas():\n",
    "          syn_prevent.append(l.name())"
   ]
  },
  {
   "cell_type": "code",
   "execution_count": null,
   "metadata": {
    "id": "m6UzAmqoj2wQ"
   },
   "outputs": [],
   "source": [
    "prevent_extended_list= syn_prevent + prevent_signals "
   ]
  },
  {
   "cell_type": "code",
   "execution_count": null,
   "metadata": {
    "id": "wrlNpRRrjqhd"
   },
   "outputs": [],
   "source": [
    "def get_prevent_docs():\n",
    "  prevent_docs=[]\n",
    "  temp=[]\n",
    "  prvnt_sign=[]\n",
    "  for document in os.listdir():\n",
    "    f=open(document,\"r\")\n",
    "    lines=f.readlines()\n",
    "    for idx, line in enumerate(lines):\n",
    "      if idx < len(lines):\n",
    "        if  get_sentence_number(lines[(idx-1)%len(lines)]) != get_sentence_number(line):\n",
    "              temp=[]\n",
    "      stem= get_stem(line)\n",
    "      token=get_token(line)\n",
    "      temp.append(token)\n",
    "      \n",
    "      if (stem or token) in prevent_extended_list:\n",
    "        prvnt_sign.append(stem) \n",
    "      if len(prvnt_sign)!= 0:\n",
    "        if  get_sentence_number(lines[(idx+1)%len(lines)]) != get_sentence_number(line):\n",
    "              prevent_docs.append([document,get_sentence_number(line),\" \".join(temp),prvnt_sign])\n",
    "              prvnt_sign=[]\n",
    "            \n",
    "  return prevent_docs      "
   ]
  },
  {
   "cell_type": "code",
   "execution_count": null,
   "metadata": {
    "colab": {
     "base_uri": "https://localhost:8080/"
    },
    "executionInfo": {
     "elapsed": 1305,
     "status": "ok",
     "timestamp": 1650233308538,
     "user": {
      "displayName": "REBBOUD Youssra",
      "userId": "00885731475713379313"
     },
     "user_tz": -120
    },
    "id": "iwYpLDX3kbHX",
    "outputId": "1501e8cb-8a76-496b-f612-6df7b067cbaf"
   },
   "outputs": [
    {
     "data": {
      "text/plain": [
       "103"
      ]
     },
     "execution_count": 43,
     "metadata": {},
     "output_type": "execute_result"
    }
   ],
   "source": [
    "len(get_prevent_docs())"
   ]
  },
  {
   "cell_type": "code",
   "execution_count": null,
   "metadata": {
    "id": "icaGiBZe7CD8"
   },
   "outputs": [],
   "source": [
    "causal_signals=['prevent', 'avert', 'forestall', 'head off', 'obviate', 'preclude', 'stave off']"
   ]
  },
  {
   "cell_type": "code",
   "execution_count": null,
   "metadata": {
    "id": "djC9sAfK76sn"
   },
   "outputs": [],
   "source": [
    "def get_intention_docs():\n",
    "  intention_docs=[]\n",
    "  temp=[]\n",
    "  intention_sign=[]\n",
    "  for document in os.listdir():\n",
    "    f=open(document,\"r\")\n",
    "    lines=f.readlines()\n",
    "    for idx, line in enumerate(lines):\n",
    "      if idx < len(lines):\n",
    "        if  get_sentence_number(lines[(idx-1)%len(lines)]) != get_sentence_number(line):\n",
    "              temp=[]\n",
    "      stem= get_stem(line)\n",
    "      token=get_token(line)\n",
    "      temp.append(token)\n",
    "      \n",
    "      if (stem or token) in intentienality_signals:\n",
    "        intention_sign.append(stem) \n",
    "      if len(intention_sign)!= 0:\n",
    "        if  get_sentence_number(lines[(idx+1)%len(lines)]) != get_sentence_number(line):\n",
    "              intention_docs.append([document,get_sentence_number(line),\" \".join(temp),intention_sign])\n",
    "              intention_sign=[]\n",
    "            \n",
    "  return intention_docs      "
   ]
  }
 ],
 "metadata": {
  "colab": {
   "authorship_tag": "ABX9TyPcHjFP+mWNBZV6MN7dEgyq",
   "collapsed_sections": [],
   "mount_file_id": "1fNsdbH83B49bXlGaIW6SGvBNe1EEoOuE",
   "name": "Get_relation_ConLL_format.ipynb",
   "provenance": []
  },
  "kernelspec": {
   "display_name": "Python 3 (ipykernel)",
   "language": "python",
   "name": "python3"
  },
  "language_info": {
   "codemirror_mode": {
    "name": "ipython",
    "version": 3
   },
   "file_extension": ".py",
   "mimetype": "text/x-python",
   "name": "python",
   "nbconvert_exporter": "python",
   "pygments_lexer": "ipython3",
   "version": "3.9.7"
  }
 },
 "nbformat": 4,
 "nbformat_minor": 4
}
